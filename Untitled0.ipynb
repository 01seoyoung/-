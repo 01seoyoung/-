{
  "nbformat": 4,
  "nbformat_minor": 0,
  "metadata": {
    "colab": {
      "provenance": [],
      "mount_file_id": "1eo6-M5VvUOab2rgKSbouhcsLoy6FL_a2",
      "authorship_tag": "ABX9TyPQAs4nfNsZI0/IJW+RSdRu",
      "include_colab_link": true
    },
    "kernelspec": {
      "name": "python3",
      "display_name": "Python 3"
    },
    "language_info": {
      "name": "python"
    }
  },
  "cells": [
    {
      "cell_type": "markdown",
      "metadata": {
        "id": "view-in-github",
        "colab_type": "text"
      },
      "source": [
        "<a href=\"https://colab.research.google.com/github/01seoyoung/-/blob/main/Untitled0.ipynb\" target=\"_parent\"><img src=\"https://colab.research.google.com/assets/colab-badge.svg\" alt=\"Open In Colab\"/></a>"
      ]
    },
    {
      "cell_type": "code",
      "execution_count": null,
      "metadata": {
        "colab": {
          "base_uri": "https://localhost:8080/",
          "height": 35
        },
        "id": "QdcZZ5bIeeFX",
        "outputId": "a5f83259-1614-4aa5-e822-e8e15eae335a"
      },
      "outputs": [
        {
          "output_type": "execute_result",
          "data": {
            "application/vnd.google.colaboratory.intrinsic+json": {
              "type": "string"
            },
            "text/plain": [
              "'/content'"
            ]
          },
          "metadata": {},
          "execution_count": 15
        }
      ],
      "source": [
        "pwd"
      ]
    },
    {
      "cell_type": "code",
      "source": [
        "!sudo apt-get install -y fonts-nanum\n",
        "!sudo fc-cache -fv\n",
        "!rm ~/.cache/matplotlib -rf"
      ],
      "metadata": {
        "colab": {
          "base_uri": "https://localhost:8080/"
        },
        "id": "tervCdSrvT92",
        "outputId": "14781103-5c98-43f2-baba-19fd2c1239a4"
      },
      "execution_count": null,
      "outputs": [
        {
          "output_type": "stream",
          "name": "stdout",
          "text": [
            "Reading package lists... Done\n",
            "Building dependency tree       \n",
            "Reading state information... Done\n",
            "The following package was automatically installed and is no longer required:\n",
            "  libnvidia-common-470\n",
            "Use 'sudo apt autoremove' to remove it.\n",
            "The following NEW packages will be installed:\n",
            "  fonts-nanum\n",
            "0 upgraded, 1 newly installed, 0 to remove and 39 not upgraded.\n",
            "Need to get 9,604 kB of archives.\n",
            "After this operation, 29.5 MB of additional disk space will be used.\n",
            "Get:1 http://archive.ubuntu.com/ubuntu bionic/universe amd64 fonts-nanum all 20170925-1 [9,604 kB]\n",
            "Fetched 9,604 kB in 1s (10.2 MB/s)\n",
            "debconf: unable to initialize frontend: Dialog\n",
            "debconf: (No usable dialog-like program is installed, so the dialog based frontend cannot be used. at /usr/share/perl5/Debconf/FrontEnd/Dialog.pm line 76, <> line 1.)\n",
            "debconf: falling back to frontend: Readline\n",
            "debconf: unable to initialize frontend: Readline\n",
            "debconf: (This frontend requires a controlling tty.)\n",
            "debconf: falling back to frontend: Teletype\n",
            "dpkg-preconfigure: unable to re-open stdin: \n",
            "Selecting previously unselected package fonts-nanum.\n",
            "(Reading database ... 155320 files and directories currently installed.)\n",
            "Preparing to unpack .../fonts-nanum_20170925-1_all.deb ...\n",
            "Unpacking fonts-nanum (20170925-1) ...\n",
            "Setting up fonts-nanum (20170925-1) ...\n",
            "Processing triggers for fontconfig (2.12.6-0ubuntu2) ...\n",
            "/usr/share/fonts: caching, new cache contents: 0 fonts, 1 dirs\n",
            "/usr/share/fonts/truetype: caching, new cache contents: 0 fonts, 3 dirs\n",
            "/usr/share/fonts/truetype/humor-sans: caching, new cache contents: 1 fonts, 0 dirs\n",
            "/usr/share/fonts/truetype/liberation: caching, new cache contents: 16 fonts, 0 dirs\n",
            "/usr/share/fonts/truetype/nanum: caching, new cache contents: 10 fonts, 0 dirs\n",
            "/usr/local/share/fonts: caching, new cache contents: 0 fonts, 0 dirs\n",
            "/root/.local/share/fonts: skipping, no such directory\n",
            "/root/.fonts: skipping, no such directory\n",
            "/var/cache/fontconfig: cleaning cache directory\n",
            "/root/.cache/fontconfig: not cleaning non-existent cache directory\n",
            "/root/.fontconfig: not cleaning non-existent cache directory\n",
            "fc-cache: succeeded\n"
          ]
        }
      ]
    },
    {
      "cell_type": "code",
      "source": [
        "import matplotlib.pyplot as plt\n",
        "\n",
        "plt.rc('font', family='NanumBarunGothic')"
      ],
      "metadata": {
        "id": "iX-SgljHvmvx"
      },
      "execution_count": null,
      "outputs": []
    },
    {
      "cell_type": "code",
      "source": [
        "#api_공개키_공공데이터포털에서_데이터불러오기_코드\n",
        "import requests\n",
        "\n",
        "key = 'jEGEXz5LHqmOO7rMd2DWPUWcBZGh5rdJyxWIAHkA2mKYG6lFeeZZVmZKfEtph7KKqpYqBiJGLjkxt0FMMEVzmQ=='\n",
        "searchYearCd = '2020'\n",
        "siDo = '11'\n",
        "guGun = ''\n",
        "numOfRows = '1000'\n",
        "pageNo = '1'\n",
        "url = 'http://apis.data.go.kr/B552061/schoolzoneChild/getRestSchoolzoneChild'\n",
        "\n",
        "params = {'serviceKey': key, 'searchYearCd': searchYearCd, 'siDo': siDo, 'guGun': guGun, 'type': 'json',\n",
        "              'numOfRows': numOfRows, 'pageNo': pageNo}\n",
        "data = requests.get(url, params=params)\n",
        "data_json = data.json()\n",
        "print(data_json)\n",
        "\n",
        "\n",
        "#불러온_데이터_파일_저장하기_코드\n",
        "element = list(data_json['items'].values())[0]\n",
        "idx = list(element[0].keys())\n",
        "\n",
        "print(idx)\n",
        "\n",
        "final_data = [idx]\n",
        "for i in range(len(element)):\n",
        "  final_data.append(list(element[i].values()))\n",
        "\n",
        "# csv 파일 쓰는 함수\n",
        "import csv\n",
        "\n",
        "def mk_csv(final_data,_searchYearCd,_siDo,_guGun):\n",
        "  path = '/content/drive/MyDrive/schoolzone' # 파일 저장 경로 설정\n",
        "  csv_Cursor = open(f'{path}{_searchYearCd}_{_siDo}_{_guGun}_schoolzone2020.csv', 'w', newline='') # 파일 이름 설정\n",
        "\n",
        "\n",
        "  wr = csv.writer(csv_Cursor)\n",
        "  for idx in final_data:\n",
        "    wr.writerow(idx)\n",
        "\n",
        "\n",
        "  csv_Cursor.close()\n",
        "\n",
        "mk_csv(final_data, searchYearCd, siDo, guGun)"
      ],
      "metadata": {
        "colab": {
          "base_uri": "https://localhost:8080/"
        },
        "id": "ZIvNk2WNemEx",
        "outputId": "d24ba3e1-bc0c-4ac4-e93d-08024db6feec"
      },
      "execution_count": null,
      "outputs": [
        {
          "output_type": "stream",
          "name": "stdout",
          "text": [
            "{'resultCode': '00', 'resultMsg': 'NORMAL_CODE', 'items': {'item': [{'afos_fid': 6671984, 'afos_id': '2021018', 'bjd_cd': '1121510300', 'spot_cd': '11215001', 'sido_sgg_nm': '서울특별시 광진구1', 'spot_nm': '서울특별시 광진구 구의동(서울광진초교 부근)', 'occrrnc_cnt': 2, 'caslt_cnt': 2, 'dth_dnv_cnt': 0, 'se_dnv_cnt': 0, 'sl_dnv_cnt': 2, 'wnd_dnv_cnt': 0, 'geom_json': '{\"type\":\"Polygon\",\"coordinates\":[[[127.09393407,37.54663914],[127.09388228,37.54622228],[127.09372893,37.54582145],[127.09347989,37.54545204],[127.09314474,37.54512824],[127.09273635,37.54486251],[127.09227043,37.54466505],[127.09176488,37.54454345],[127.09123912,37.5445024],[127.09071336,37.54454345],[127.09020781,37.54466505],[127.08974189,37.54486251],[127.08933351,37.54512824],[127.08899836,37.54545204],[127.08874932,37.54582145],[127.08859596,37.54622228],[127.08854418,37.54663914],[127.08859596,37.54705599],[127.08874932,37.54745681],[127.08899836,37.54782622],[127.08933351,37.54815],[127.08974189,37.54841572],[127.09020781,37.54861317],[127.09071336,37.54873476],[127.09123912,37.54877581],[127.09176488,37.54873476],[127.09227043,37.54861317],[127.09273635,37.54841572],[127.09314474,37.54815],[127.09347989,37.54782622],[127.09372893,37.54745681],[127.09388228,37.54705599],[127.09393407,37.54663914]]]}', 'lo_crd': '127.09123912089', 'la_crd': '37.546639136088'}, {'afos_fid': 6671985, 'afos_id': '2021018', 'bjd_cd': '1153010700', 'spot_cd': '11530001', 'sido_sgg_nm': '서울특별시 구로구1', 'spot_nm': '서울특별시 구로구 개봉동(서울개봉초교 부근)', 'occrrnc_cnt': 2, 'caslt_cnt': 2, 'dth_dnv_cnt': 0, 'se_dnv_cnt': 1, 'sl_dnv_cnt': 1, 'wnd_dnv_cnt': 0, 'geom_json': '{\"type\":\"Polygon\",\"coordinates\":[[[126.86002877,37.48913366],[126.85997699,37.48871648],[126.85982363,37.48831534],[126.85957459,37.48794564],[126.85923944,37.4876216],[126.85883105,37.48735566],[126.85836513,37.48715805],[126.85785958,37.48703636],[126.85733382,37.48699527],[126.85680806,37.48703636],[126.85630251,37.48715805],[126.85583659,37.48735566],[126.85542821,37.4876216],[126.85509306,37.48794564],[126.85484402,37.48831534],[126.85469066,37.48871648],[126.85463888,37.48913366],[126.85469066,37.48955083],[126.85484402,37.48995196],[126.85509306,37.49032165],[126.85542821,37.49064569],[126.85583659,37.49091161],[126.85630251,37.49110921],[126.85680806,37.49123089],[126.85733382,37.49127198],[126.85785958,37.49123089],[126.85836513,37.49110921],[126.85883105,37.49091161],[126.85923944,37.49064569],[126.85957459,37.49032165],[126.85982363,37.48995196],[126.85997699,37.48955083],[126.86002877,37.48913366]]]}', 'lo_crd': '126.857333822199', 'la_crd': '37.489133656094'}]}, 'totalCount': 2, 'numOfRows': 2, 'pageNo': 1}\n",
            "['afos_fid', 'afos_id', 'bjd_cd', 'spot_cd', 'sido_sgg_nm', 'spot_nm', 'occrrnc_cnt', 'caslt_cnt', 'dth_dnv_cnt', 'se_dnv_cnt', 'sl_dnv_cnt', 'wnd_dnv_cnt', 'geom_json', 'lo_crd', 'la_crd']\n"
          ]
        }
      ]
    },
    {
      "cell_type": "code",
      "source": [
        "#전체_년도_파일_합치기_코드\n",
        "\n",
        "import pandas as pd\n",
        "from glob import glob\n",
        "\n",
        "def schoolzone_year(year):\n",
        "  path = f'/content/drive/MyDrive/schoolzone/data2/{year}/'\n",
        "\n",
        "  file_names = glob(f\"{path}*.csv\") #폴더 내의 모든 csv파일 목록을 불러온다\n",
        "  total = pd.DataFrame() #빈 데이터프레임 하나를 생성한다\n",
        "\n",
        "def schoolzone_year(year):\n",
        "  path = f''\n",
        "\n",
        "  for file_name in file_names:\n",
        "    temp = pd.read_csv(file_name, encoding='utf-8') #csv파일을 하나씩 열어 임시 데이터프레임으로 생성한다\n",
        "    total = pd.concat([total, temp]) #전체 데이터프레임에 추가하여 넣는다\n",
        "\n",
        "  total.to_csv(f\"/content/drive/MyDrive/schoolzone/{year}_total.csv\")\n",
        "\n",
        "  print(len(file_names))\n",
        "\n",
        "  data = pd.read_csv(f\"/content/drive/MyDrive/schoolzone/{year}_total.csv\", encoding='utf-8')\n",
        "\n",
        "  idx = list(data.columns)\n",
        "  print(len(idx))\n",
        "\n",
        "  remove_col = ['Unnamed: 0',\n",
        " 'afos_fid',\n",
        " 'afos_id',\n",
        " 'bjd_cd',\n",
        " 'spot_cd',\n",
        " 'se_dnv_cnt',\n",
        " 'sl_dnv_cnt',\n",
        " 'wnd_dnv_cnt']\n",
        "\n",
        "  re_col_name = {'sido_sgg_nm' : '시도시군구명',\n",
        " 'spot_nm' : '지점명',\n",
        " 'occrrnc_cnt' : '발생건수',\n",
        " 'caslt_cnt' : '사상자수',\n",
        " 'dth_dnv_cnt' : '사망자수',\n",
        " 'geom_json' : '다발지역폴리곤',\n",
        " 'lo_crd' : '경도',\n",
        " 'la_crd' : '위도'}\n",
        "\n",
        "  data.drop(remove_col, axis=1, inplace=True)\n",
        "\n",
        "  data.rename(columns = re_col_name, inplace=True)\n",
        "\n",
        " # 연도 컬럼 추가 및 컬럼 순서 변경\n",
        "  data.loc[:, '년도'] = year\n",
        "  col = ['년도', '시도시군구명', '지점명', '발생건수', '사상자수', '사망자수', '다발지역폴리곤', '경도', '위도']\n",
        "  data = data[col]\n",
        "\n",
        "  # 데이터 저장\n",
        "  data.to_csv(f'/content/drive/MyDrive/schoolzone.{year}_schoolzone.csv', header = True, index=False)\n",
        "\n",
        "  print(data)"
      ],
      "metadata": {
        "id": "ywAJdbgmsffF"
      },
      "execution_count": null,
      "outputs": []
    },
    {
      "cell_type": "code",
      "source": [
        "import pandas as pd\n",
        "import glob\n",
        "import os\n",
        "\n",
        "\n",
        "\n",
        "input_path = r'/content/drive/MyDrive/schoolzone/data2' # csv파일들이 있는 디렉토리 위치\n",
        "output_file = r'/content/drive/MyDrive/schoolzone/data2/schoolzone_total.csv' # 저장 파일명\n",
        "\n",
        "file_list = glob.glob(os.path.join(input_path, '*.csv')) # 모든 scv파일 선택\n",
        "\n",
        "\n",
        "\n",
        "with open(output_file, 'w') as write_file:\n",
        "   for i, file_name in enumerate (file_list):\n",
        "      with open(file_name, 'rt', encoding='utf-8') as original_file: # 파일 읽어오기\n",
        "         n = 0\n",
        "\n",
        "         while True:\n",
        "            line = original_file.readline()\n",
        "            # if n == 0: # 모든 csv 파일 릴레이션 삭제\n",
        "            if i != 0 and n == 0: # 첫 번째 파일이 아니고, 첫 번째 라인인 경우 (릴레이션)\n",
        "               n += 1\n",
        "               continue\n",
        "            if not line:\n",
        "               print(f'File[{i}] Succeed..!')\n",
        "               break\n",
        "            write_file.write(line)\n",
        "         n += 1\n",
        "         schoolzone2016\n",
        "\n",
        "print('File Mergin Succeed..!')"
      ],
      "metadata": {
        "colab": {
          "base_uri": "https://localhost:8080/"
        },
        "id": "uSsbUgwgUhIF",
        "outputId": "e29b67bc-929d-40e6-e7b7-6bc11ad8a5d9"
      },
      "execution_count": null,
      "outputs": [
        {
          "output_type": "stream",
          "name": "stdout",
          "text": [
            "File[0] Succeed..!\n",
            "File[1] Succeed..!\n",
            "File[2] Succeed..!\n",
            "File[3] Succeed..!\n",
            "File[4] Succeed..!\n",
            "File[5] Succeed..!\n",
            "File Mergin Succeed..!\n"
          ]
        }
      ]
    },
    {
      "cell_type": "code",
      "source": [
        "from google.colab import drive\n",
        "drive.mount(\"/content/drive\")"
      ],
      "metadata": {
        "colab": {
          "base_uri": "https://localhost:8080/"
        },
        "id": "tRc8Xg0CoS2N",
        "outputId": "26efb6c5-142e-4ed5-d45e-c3aceb6f0425"
      },
      "execution_count": null,
      "outputs": [
        {
          "output_type": "stream",
          "name": "stdout",
          "text": [
            "Drive already mounted at /content/drive; to attempt to forcibly remount, call drive.mount(\"/content/drive\", force_remount=True).\n"
          ]
        }
      ]
    },
    {
      "cell_type": "code",
      "source": [
        "import pandas as pd\n",
        "from glob import glob\n",
        "\n",
        "def concat_by_year(year):\n",
        "  path = f'/content/drive/MyDrive/schoolzone/data2/{year}/'\n",
        "\n",
        "  file_names = glob(f\"{path}*.csv\") #폴더 내의 모든 csv파일 목록을 불러온다\n",
        "  total = pd.DataFrame() #빈 데이터프레임 하나를 생성한다\n",
        "\n",
        "  for file_name in file_names:\n",
        "    temp = pd.read_csv(file_name, encoding='utf-8') #csv파일을 하나씩 열어 임시 데이터프레임으로 생성한다\n",
        "    total = pd.concat([total, temp]) #전체 데이터프레임에 추가하여 넣는다\n",
        "\n",
        "  total.to_csv(f\"/content/drive/MyDrive/schoolzone/{year}_total.csv\")\n",
        "\n",
        "  print(len(file_names))\n",
        "\n",
        "  data = pd.read_csv(f\"/content/drive/MyDrive/schoolzone/{year}_total.csv\", encoding='utf-8')\n",
        "\n",
        "  idx = list(data.columns)\n",
        "  print(len(idx))\n",
        "\n",
        "  remove_col = ['Unnamed: 0',\n",
        " 'afos_fid',\n",
        " 'afos_id',\n",
        " 'bjd_cd',\n",
        " 'spot_cd',\n",
        " 'se_dnv_cnt',\n",
        " 'sl_dnv_cnt',\n",
        " 'wnd_dnv_cnt']\n",
        "\n",
        "  re_col_name = {'sido_sgg_nm' : '시도시군구명',\n",
        " 'spot_nm' : '지점명',\n",
        " 'occrrnc_cnt' : '발생건수',\n",
        " 'caslt_cnt' : '사상자수',\n",
        " 'dth_dnv_cnt' : '사망자수',\n",
        " 'geom_json' : '다발지역폴리곤',\n",
        " 'lo_crd' : '경도',\n",
        " 'la_crd' : '위도'}\n",
        "\n",
        "\n",
        "  data.drop(remove_col, axis=1, inplace=True)\n",
        "\n",
        "  data.rename(columns = re_col_name, inplace=True)\n",
        "\n",
        " # 연도 컬럼 추가 및 컬럼 순서 변경\n",
        "  data.loc[:, '년도'] = year\n",
        "  col = ['년도', '시도시군구명', '지점명', '발생건수', '사상자수', '사망자수', '다발지역폴리곤', '경도', '위도']\n",
        "  data = data[col]\n",
        "\n",
        "  # 데이터 저장\n",
        "  data.to_csv(f'/content/drive/MyDrive/schoolzone.{year}_schoolzone.csv', header = True, index=False)\n",
        "  print(data)"
      ],
      "metadata": {
        "id": "ap86jqlwsRDl"
      },
      "execution_count": null,
      "outputs": []
    }
  ]
}